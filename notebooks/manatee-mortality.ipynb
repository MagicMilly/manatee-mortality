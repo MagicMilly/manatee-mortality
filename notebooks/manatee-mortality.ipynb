{
 "cells": [
  {
   "cell_type": "markdown",
   "metadata": {},
   "source": [
    "## West Indian Manatee Mortality\n",
    "- Data analysis of Manatee Mortality\n",
    "- Data obtained from [Florida Fish & Wildlife Conservation Commission](https://myfwc.com/research/manatee/rescue-mortality-response/statistics/mortality/)\n",
    "- Updated 2020-06-25\n",
    "\n",
    "### Data from years:\n",
    "- 2016\n",
    "- 2017\n",
    "- 2018\n",
    "- 2019\n",
    "- 2020 (up to June)"
   ]
  },
  {
   "cell_type": "code",
   "execution_count": null,
   "metadata": {},
   "outputs": [],
   "source": [
    "import datetime as dt\n",
    "import pandas as pd"
   ]
  },
  {
   "cell_type": "markdown",
   "metadata": {},
   "source": [
    "#### Read in 2016 data"
   ]
  },
  {
   "cell_type": "code",
   "execution_count": null,
   "metadata": {},
   "outputs": [],
   "source": [
    "df_16 = pd.read_csv('data/raw/manatee_mortality_2016.csv', header=1)\n",
    "print(df_16.shape)\n",
    "# df_16.head()"
   ]
  },
  {
   "cell_type": "markdown",
   "metadata": {},
   "source": [
    "#### Read in 2017 data"
   ]
  },
  {
   "cell_type": "code",
   "execution_count": null,
   "metadata": {},
   "outputs": [],
   "source": [
    "df_17 = pd.read_csv('data/raw/manatee_mortality_2017.csv', header=1)\n",
    "print(df_17.shape)\n",
    "# df_17.head()"
   ]
  },
  {
   "cell_type": "markdown",
   "metadata": {},
   "source": [
    "#### Read in 2018 data"
   ]
  },
  {
   "cell_type": "code",
   "execution_count": null,
   "metadata": {},
   "outputs": [],
   "source": [
    "df_18 = pd.read_csv('data/raw/manatee_mortality_2018.csv', header=2)\n",
    "print(df_18.shape)\n",
    "# df_18.head()"
   ]
  },
  {
   "cell_type": "markdown",
   "metadata": {},
   "source": [
    "#### Read in 2019 data"
   ]
  },
  {
   "cell_type": "code",
   "execution_count": null,
   "metadata": {},
   "outputs": [],
   "source": [
    "df_19 = pd.read_csv('data/raw/manatee_mortality_2019.csv', header=2)\n",
    "print(df_19.shape)\n",
    "# df_19.head()"
   ]
  },
  {
   "cell_type": "markdown",
   "metadata": {},
   "source": [
    "#### Read in current 2020 data (up to May)"
   ]
  },
  {
   "cell_type": "code",
   "execution_count": null,
   "metadata": {},
   "outputs": [],
   "source": [
    "df_20 = pd.read_csv('data/raw/manatee_mortality_2020.csv', header=2)\n",
    "print(df_20.shape)\n",
    "# df_20.head()"
   ]
  },
  {
   "cell_type": "markdown",
   "metadata": {},
   "source": [
    "## Probable Causes of Death\n",
    "### Official Categories & Descriptions\n",
    "* __Watercraft__ - Watercraft-related mortality. Death may result from propeller wounds, impact, crushing, or any combination of the three.\n",
    "* __Crush / Drowned in Flood Gate or Canal Lock__ - Manatees killed by crushing or asphyxiation in flood gates and canal locks.\n",
    "* __Other Human Related__ - Manatee deaths caused by vandalism, poaching, entrapment in pipes and culverts, complications due to entanglement in ropes, lines, and nets, or ingestion of fishing gear or debris.\n",
    "* __Perinatal__ - Manatees less than or equal to 150 cm (5 feet) in total length which were not determined to have died due to human-related causes.\n",
    "* __Cold Stress__ - Manatees which die as a result of exposure to acute or prolonged cold weather. Animals are usually emaciated and in a general state of malnutrition. (Combined with \"Other Natural\" in some printouts.)\n",
    "* __Other Natural__ - Manatee deaths resulting from infectious and non-infectious diseases, birth complications, natural accidents, and natural catastrophes (such as red tide blooms).\n",
    "* __Undetermined: Too Decomposed__ - Manatee deaths in which the cause of death could not be determined due to an advanced stage of decomposition.\n",
    "* __Undetermined: Other__ - Manatee deaths in which the carcass was in good condition (fresh or moderately decomposed), but necropsy findings were inconclusive. (Combined with \"Undetermined\" in some printouts.)\n",
    "* __Verified / Not Recovered__ - Manatee deaths that were reported and verified, but a complete necropsy was not performed. (Combined with \"Undetermined\" in some printouts.)"
   ]
  },
  {
   "cell_type": "code",
   "execution_count": null,
   "metadata": {},
   "outputs": [],
   "source": [
    "manatee_df['Probable Cause'].value_counts()"
   ]
  },
  {
   "cell_type": "code",
   "execution_count": null,
   "metadata": {},
   "outputs": [],
   "source": []
  },
  {
   "cell_type": "code",
   "execution_count": null,
   "metadata": {},
   "outputs": [],
   "source": []
  },
  {
   "cell_type": "code",
   "execution_count": null,
   "metadata": {},
   "outputs": [],
   "source": []
  },
  {
   "cell_type": "code",
   "execution_count": null,
   "metadata": {},
   "outputs": [],
   "source": []
  },
  {
   "cell_type": "code",
   "execution_count": null,
   "metadata": {},
   "outputs": [],
   "source": []
  },
  {
   "cell_type": "code",
   "execution_count": null,
   "metadata": {},
   "outputs": [],
   "source": []
  },
  {
   "cell_type": "code",
   "execution_count": null,
   "metadata": {},
   "outputs": [],
   "source": [
    "# Function that takes in title (year) of data, new title, rows for summary data, new title for summary data, headers, and \n",
    "# drops na columns with a header of na?\n",
    "# Summary df format may have to be dealt with on an individual basis\n",
    "\n",
    "# def clean_spreadsheeet_manatee_file(spreadhseet_df, new_title_main_df, beginning_row_for_summary, last_row_main_df, \\\n",
    "#                                     summary_df_name):\n",
    "    \n",
    "#     summary_df_name = spreadsheet_df.iloc[:beginning_row_for_summary]\n",
    "#     temp_df = spreadsheet_df.iloc[1:, :last_row_main_df]\n",
    "#     temp_df.drop('NaN', 1, inplace=True)\n",
    "#     new_title_main_df = pd.DataFrame(data=temp_df, columns=headers)                              "
   ]
  },
  {
   "cell_type": "code",
   "execution_count": null,
   "metadata": {},
   "outputs": [],
   "source": []
  }
 ],
 "metadata": {
  "kernelspec": {
   "display_name": "Python 3",
   "language": "python",
   "name": "python3"
  },
  "language_info": {
   "codemirror_mode": {
    "name": "ipython",
    "version": 3
   },
   "file_extension": ".py",
   "mimetype": "text/x-python",
   "name": "python",
   "nbconvert_exporter": "python",
   "pygments_lexer": "ipython3",
   "version": "3.7.5"
  }
 },
 "nbformat": 4,
 "nbformat_minor": 2
}
